{
  "nbformat": 4,
  "nbformat_minor": 0,
  "metadata": {
    "colab": {
      "name": "SpamMailPrediction.ipynb",
      "provenance": [],
      "authorship_tag": "ABX9TyPGBqRfnoJBx2ZBQsOSrVeV",
      "include_colab_link": true
    },
    "kernelspec": {
      "name": "python3",
      "display_name": "Python 3"
    },
    "language_info": {
      "name": "python"
    }
  },
  "cells": [
    {
      "cell_type": "markdown",
      "metadata": {
        "id": "view-in-github",
        "colab_type": "text"
      },
      "source": [
        "<a href=\"https://colab.research.google.com/github/gayatri1505/Machine-Learning-Projects/blob/main/SpamMailPrediction.ipynb\" target=\"_parent\"><img src=\"https://colab.research.google.com/assets/colab-badge.svg\" alt=\"Open In Colab\"/></a>"
      ]
    },
    {
      "cell_type": "markdown",
      "metadata": {
        "id": "AzmInZJt4F5v"
      },
      "source": [
        "Import the libraries :\n"
      ]
    },
    {
      "cell_type": "code",
      "metadata": {
        "id": "b6RxOSD24LK1"
      },
      "source": [
        "import numpy as np\n",
        "import pandas as pd\n",
        "from sklearn.model_selection import train_test_split\n",
        "from sklearn.feature_extraction.text import TfidfVectorizer\n",
        "from sklearn.svm import LinearSVC\n",
        "from sklearn.metrics import accuracy_score"
      ],
      "execution_count": 32,
      "outputs": []
    },
    {
      "cell_type": "markdown",
      "metadata": {
        "id": "hLhxo9TlIgH6"
      },
      "source": [
        "Data Preprocessing : "
      ]
    },
    {
      "cell_type": "code",
      "metadata": {
        "id": "To9vqFwYInur"
      },
      "source": [
        "#import the datasets:\n",
        "raw_mail_data = pd.read_csv(\"spam.csv\",encoding='latin-1')\n",
        "#replace null values with null strings:\n",
        "mail_data = raw_mail_data.where((pd.notnull(raw_mail_data)),' ')"
      ],
      "execution_count": 33,
      "outputs": []
    },
    {
      "cell_type": "code",
      "metadata": {
        "colab": {
          "base_uri": "https://localhost:8080/"
        },
        "id": "RUltPumCKTfX",
        "outputId": "31f4abd0-21e7-40b5-fabd-ac7d258df6fb"
      },
      "source": [
        "mail_data.shape"
      ],
      "execution_count": 34,
      "outputs": [
        {
          "output_type": "execute_result",
          "data": {
            "text/plain": [
              "(5572, 5)"
            ]
          },
          "metadata": {
            "tags": []
          },
          "execution_count": 34
        }
      ]
    },
    {
      "cell_type": "code",
      "metadata": {
        "colab": {
          "base_uri": "https://localhost:8080/",
          "height": 203
        },
        "id": "CdOZC4SIKryc",
        "outputId": "afe13989-3ced-42bf-bff2-25335b67a6f0"
      },
      "source": [
        "#sample data\n",
        "mail_data.head(5)"
      ],
      "execution_count": 35,
      "outputs": [
        {
          "output_type": "execute_result",
          "data": {
            "text/html": [
              "<div>\n",
              "<style scoped>\n",
              "    .dataframe tbody tr th:only-of-type {\n",
              "        vertical-align: middle;\n",
              "    }\n",
              "\n",
              "    .dataframe tbody tr th {\n",
              "        vertical-align: top;\n",
              "    }\n",
              "\n",
              "    .dataframe thead th {\n",
              "        text-align: right;\n",
              "    }\n",
              "</style>\n",
              "<table border=\"1\" class=\"dataframe\">\n",
              "  <thead>\n",
              "    <tr style=\"text-align: right;\">\n",
              "      <th></th>\n",
              "      <th>v1</th>\n",
              "      <th>v2</th>\n",
              "      <th>Unnamed: 2</th>\n",
              "      <th>Unnamed: 3</th>\n",
              "      <th>Unnamed: 4</th>\n",
              "    </tr>\n",
              "  </thead>\n",
              "  <tbody>\n",
              "    <tr>\n",
              "      <th>0</th>\n",
              "      <td>ham</td>\n",
              "      <td>Go until jurong point, crazy.. Available only ...</td>\n",
              "      <td></td>\n",
              "      <td></td>\n",
              "      <td></td>\n",
              "    </tr>\n",
              "    <tr>\n",
              "      <th>1</th>\n",
              "      <td>ham</td>\n",
              "      <td>Ok lar... Joking wif u oni...</td>\n",
              "      <td></td>\n",
              "      <td></td>\n",
              "      <td></td>\n",
              "    </tr>\n",
              "    <tr>\n",
              "      <th>2</th>\n",
              "      <td>spam</td>\n",
              "      <td>Free entry in 2 a wkly comp to win FA Cup fina...</td>\n",
              "      <td></td>\n",
              "      <td></td>\n",
              "      <td></td>\n",
              "    </tr>\n",
              "    <tr>\n",
              "      <th>3</th>\n",
              "      <td>ham</td>\n",
              "      <td>U dun say so early hor... U c already then say...</td>\n",
              "      <td></td>\n",
              "      <td></td>\n",
              "      <td></td>\n",
              "    </tr>\n",
              "    <tr>\n",
              "      <th>4</th>\n",
              "      <td>ham</td>\n",
              "      <td>Nah I don't think he goes to usf, he lives aro...</td>\n",
              "      <td></td>\n",
              "      <td></td>\n",
              "      <td></td>\n",
              "    </tr>\n",
              "  </tbody>\n",
              "</table>\n",
              "</div>"
            ],
            "text/plain": [
              "     v1  ... Unnamed: 4\n",
              "0   ham  ...           \n",
              "1   ham  ...           \n",
              "2  spam  ...           \n",
              "3   ham  ...           \n",
              "4   ham  ...           \n",
              "\n",
              "[5 rows x 5 columns]"
            ]
          },
          "metadata": {
            "tags": []
          },
          "execution_count": 35
        }
      ]
    },
    {
      "cell_type": "code",
      "metadata": {
        "id": "SJ648sz7LeNT"
      },
      "source": [
        "#label spam-mail as 0 and non-spam mail as 1\n",
        "mail_data.loc[mail_data['v1'] == 'spam','v1',] = 0\n",
        "mail_data.loc[mail_data['v1'] == 'ham','v1',] = 1"
      ],
      "execution_count": 36,
      "outputs": []
    },
    {
      "cell_type": "code",
      "metadata": {
        "id": "VSNVpy1JMJ-E"
      },
      "source": [
        "#separate the data as text and label: X:text Y:label\n",
        "X = mail_data['v2']\n",
        "Y = mail_data['v1']"
      ],
      "execution_count": 37,
      "outputs": []
    },
    {
      "cell_type": "code",
      "metadata": {
        "colab": {
          "base_uri": "https://localhost:8080/"
        },
        "id": "l8KfCv4rQu5_",
        "outputId": "6572e4f6-a23a-4f04-87b5-504ebff43faa"
      },
      "source": [
        "#print X and Y :\n",
        "print(X)\n",
        "print(\"=====================================================\")\n",
        "print(Y)"
      ],
      "execution_count": 38,
      "outputs": [
        {
          "output_type": "stream",
          "text": [
            "0       Go until jurong point, crazy.. Available only ...\n",
            "1                           Ok lar... Joking wif u oni...\n",
            "2       Free entry in 2 a wkly comp to win FA Cup fina...\n",
            "3       U dun say so early hor... U c already then say...\n",
            "4       Nah I don't think he goes to usf, he lives aro...\n",
            "                              ...                        \n",
            "5567    This is the 2nd time we have tried 2 contact u...\n",
            "5568                Will Ì_ b going to esplanade fr home?\n",
            "5569    Pity, * was in mood for that. So...any other s...\n",
            "5570    The guy did some bitching but I acted like i'd...\n",
            "5571                           Rofl. Its true to its name\n",
            "Name: v2, Length: 5572, dtype: object\n",
            "=====================================================\n",
            "0       1\n",
            "1       1\n",
            "2       0\n",
            "3       1\n",
            "4       1\n",
            "       ..\n",
            "5567    0\n",
            "5568    1\n",
            "5569    1\n",
            "5570    1\n",
            "5571    1\n",
            "Name: v1, Length: 5572, dtype: object\n"
          ],
          "name": "stdout"
        }
      ]
    },
    {
      "cell_type": "markdown",
      "metadata": {
        "id": "YjC6XQEGRwx7"
      },
      "source": [
        "Train Test splitting"
      ]
    },
    {
      "cell_type": "code",
      "metadata": {
        "id": "bt3NrvFiRzsT"
      },
      "source": [
        "X_train , X_test , Y_train , Y_test = train_test_split(X,Y,test_size = 0.2,random_state = 3)"
      ],
      "execution_count": 39,
      "outputs": []
    },
    {
      "cell_type": "markdown",
      "metadata": {
        "id": "QQs5_OVBSI78"
      },
      "source": [
        "Feature Extraction : "
      ]
    },
    {
      "cell_type": "code",
      "metadata": {
        "id": "rnwcGQnsThOm"
      },
      "source": [
        "#transform the text data to feature vectors that can be used as input to the SVM model using TfidfVectorizer\n",
        "#convert the text to lower case letters :\n",
        "feature_extraction = TfidfVectorizer(min_df = 1,stop_words='english',lowercase=True)\n",
        "X_train_features = feature_extraction.fit_transform(X_train)\n",
        "X_test_features = feature_extraction.transform(X_test)\n",
        "\n",
        "#convert Y_test and train to int type\n",
        "Y_train = Y_train.astype('int')\n",
        "Y_test = Y_test.astype('int')"
      ],
      "execution_count": 40,
      "outputs": []
    },
    {
      "cell_type": "markdown",
      "metadata": {
        "id": "gi62kbjqV5Ls"
      },
      "source": [
        "Training The Model : SUPPORT VECTOR MACHINE"
      ]
    },
    {
      "cell_type": "code",
      "metadata": {
        "colab": {
          "base_uri": "https://localhost:8080/"
        },
        "id": "t6PqLcuHWCYf",
        "outputId": "290fc91c-9e05-466f-8fc0-0517c60f412c"
      },
      "source": [
        "#Training the SVM model with training Data:\n",
        "model = LinearSVC()\n",
        "model.fit(X_train_features,Y_train)"
      ],
      "execution_count": 41,
      "outputs": [
        {
          "output_type": "execute_result",
          "data": {
            "text/plain": [
              "LinearSVC(C=1.0, class_weight=None, dual=True, fit_intercept=True,\n",
              "          intercept_scaling=1, loss='squared_hinge', max_iter=1000,\n",
              "          multi_class='ovr', penalty='l2', random_state=None, tol=0.0001,\n",
              "          verbose=0)"
            ]
          },
          "metadata": {
            "tags": []
          },
          "execution_count": 41
        }
      ]
    },
    {
      "cell_type": "markdown",
      "metadata": {
        "id": "-WXI3LChXhml"
      },
      "source": [
        "Evaluation of Model:"
      ]
    },
    {
      "cell_type": "code",
      "metadata": {
        "id": "OADAAkZuXfog"
      },
      "source": [
        "#prediction of training_data :\n",
        "prediction_train_data = model.predict(X_train_features)\n",
        "accuracy_train_data = accuracy_score(Y_train , prediction_train_data)"
      ],
      "execution_count": 42,
      "outputs": []
    },
    {
      "cell_type": "code",
      "metadata": {
        "colab": {
          "base_uri": "https://localhost:8080/"
        },
        "id": "uImeyO-OYEyb",
        "outputId": "341df91b-c100-497c-a722-ecc5f809b555"
      },
      "source": [
        "print(\"Accuracy on training data : \",accuracy_train_data)"
      ],
      "execution_count": 43,
      "outputs": [
        {
          "output_type": "stream",
          "text": [
            "Accuracy on training data :  0.9995512676688355\n"
          ],
          "name": "stdout"
        }
      ]
    },
    {
      "cell_type": "code",
      "metadata": {
        "id": "OtBhlLmHYSjC"
      },
      "source": [
        "#prediction of testing_data :\n",
        "prediction_test_data = model.predict(X_test_features)\n",
        "accuracy_test_data = accuracy_score(Y_test , prediction_test_data)"
      ],
      "execution_count": 44,
      "outputs": []
    },
    {
      "cell_type": "code",
      "metadata": {
        "colab": {
          "base_uri": "https://localhost:8080/"
        },
        "id": "OSnm0FTlYbvQ",
        "outputId": "254d7292-1119-421e-f4c8-bf4f47cfb83b"
      },
      "source": [
        "print(\"Accuracy on test data : \",accuracy_test_data)"
      ],
      "execution_count": 45,
      "outputs": [
        {
          "output_type": "stream",
          "text": [
            "Accuracy on test data :  0.9856502242152466\n"
          ],
          "name": "stdout"
        }
      ]
    },
    {
      "cell_type": "markdown",
      "metadata": {
        "id": "Kt_1gg7fYptq"
      },
      "source": [
        "Prediction on new mail : "
      ]
    },
    {
      "cell_type": "code",
      "metadata": {
        "colab": {
          "base_uri": "https://localhost:8080/"
        },
        "id": "YVNzyPu5YstI",
        "outputId": "1b015858-b7c0-489e-c74d-a9707422d845"
      },
      "source": [
        "input_mail = [input()]\n",
        "#convert text to feature vectors::\n",
        "input_mail_features = feature_extraction.transform(input_mail)\n",
        "\n",
        "#make prediction  :\n",
        "pred = model.predict(input_mail_features)\n",
        "\n",
        "if (pred[0] == 1):\n",
        "  print(\"HAM MAIL\")\n",
        "else:\n",
        "  print(\"SPAM MAIL !!!!!\")\n",
        " \n"
      ],
      "execution_count": 46,
      "outputs": [
        {
          "output_type": "stream",
          "text": [
            "WINNER!! As a valued network customer you have been selected to receivea å£900 prize reward! To claim call 09061701461. Claim code KL341. Valid 12 hours only.\t\t\t\n",
            "SPAM MAIL !!!!!\n"
          ],
          "name": "stdout"
        }
      ]
    }
  ]
}